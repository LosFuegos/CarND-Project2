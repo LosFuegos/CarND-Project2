{
 "cells": [
  {
   "cell_type": "markdown",
   "metadata": {
    "deletable": true,
    "editable": true
   },
   "source": [
    "# Self-Driving Car Engineer Nanodegree\n",
    "\n",
    "## Deep Learning\n",
    "\n",
    "## Project: Build a Traffic Sign Recognition Classifier\n",
    "\n",
    "In this notebook, a template is provided for you to implement your functionality in stages, which is required to successfully complete this project. If additional code is required that cannot be included in the notebook, be sure that the Python code is successfully imported and included in your submission if necessary. \n",
    "\n",
    "> **Note**: Once you have completed all of the code implementations, you need to finalize your work by exporting the iPython Notebook as an HTML document. Before exporting the notebook to html, all of the code cells need to have been run so that reviewers can see the final implementation and output. You can then export the notebook by using the menu above and navigating to  \\n\",\n",
    "    \"**File -> Download as -> HTML (.html)**. Include the finished document along with this notebook as your submission. \n",
    "\n",
    "In addition to implementing code, there is a writeup to complete. The writeup should be completed in a separate file, which can be either a markdown file or a pdf document. There is a [write up template](https://github.com/udacity/CarND-Traffic-Sign-Classifier-Project/blob/master/writeup_template.md) that can be used to guide the writing process. Completing the code template and writeup template will cover all of the [rubric points](https://review.udacity.com/#!/rubrics/481/view) for this project.\n",
    "\n",
    "The [rubric](https://review.udacity.com/#!/rubrics/481/view) contains \"Stand Out Suggestions\" for enhancing the project beyond the minimum requirements. The stand out suggestions are optional. If you decide to pursue the \"stand out suggestions\", you can include the code in this Ipython notebook and also discuss the results in the writeup file.\n",
    "\n",
    "\n",
    ">**Note:** Code and Markdown cells can be executed using the **Shift + Enter** keyboard shortcut. In addition, Markdown cells can be edited by typically double-clicking the cell to enter edit mode."
   ]
  },
  {
   "cell_type": "markdown",
   "metadata": {
    "deletable": true,
    "editable": true
   },
   "source": [
    "---\n",
    "## Step 0: Load The Data"
   ]
  },
  {
   "cell_type": "code",
   "execution_count": 1,
   "metadata": {
    "collapsed": false,
    "deletable": true,
    "editable": true
   },
   "outputs": [],
   "source": [
    "# Load pickled data\n",
    "import pickle\n",
    "from skimage import exposure, img_as_float\n",
    "# TODO: Fill this in based on where you saved the training and testing data\n",
    "\n",
    "training_file = 'train.p'\n",
    "validation_file= 'valid.p'\n",
    "testing_file = 'test.p'\n",
    "\n",
    "with open(training_file, mode='rb') as f:\n",
    "    train = pickle.load(f)\n",
    "with open(validation_file, mode='rb') as f:\n",
    "    valid = pickle.load(f)\n",
    "with open(testing_file, mode='rb') as f:\n",
    "    test = pickle.load(f)\n",
    "    \n",
    "X_train, y_train = train['features'], train['labels']\n",
    "X_valid, y_valid = valid['features'], valid['labels']\n",
    "X_test, y_test = test['features'], test['labels']"
   ]
  },
  {
   "cell_type": "markdown",
   "metadata": {
    "deletable": true,
    "editable": true
   },
   "source": [
    "---\n",
    "\n",
    "## Step 1: Dataset Summary & Exploration\n",
    "\n",
    "The pickled data is a dictionary with 4 key/value pairs:\n",
    "\n",
    "- `'features'` is a 4D array containing raw pixel data of the traffic sign images, (num examples, width, height, channels).\n",
    "- `'labels'` is a 1D array containing the label/class id of the traffic sign. The file `signnames.csv` contains id -> name mappings for each id.\n",
    "- `'sizes'` is a list containing tuples, (width, height) representing the original width and height the image.\n",
    "- `'coords'` is a list containing tuples, (x1, y1, x2, y2) representing coordinates of a bounding box around the sign in the image. **THESE COORDINATES ASSUME THE ORIGINAL IMAGE. THE PICKLED DATA CONTAINS RESIZED VERSIONS (32 by 32) OF THESE IMAGES**\n",
    "\n",
    "Complete the basic data summary below. Use python, numpy and/or pandas methods to calculate the data summary rather than hard coding the results. For example, the [pandas shape method](http://pandas.pydata.org/pandas-docs/stable/generated/pandas.DataFrame.shape.html) might be useful for calculating some of the summary results. "
   ]
  },
  {
   "cell_type": "markdown",
   "metadata": {
    "deletable": true,
    "editable": true
   },
   "source": [
    "### Provide a Basic Summary of the Data Set Using Python, Numpy and/or Pandas"
   ]
  },
  {
   "cell_type": "code",
   "execution_count": 2,
   "metadata": {
    "collapsed": false,
    "deletable": true,
    "editable": true
   },
   "outputs": [
    {
     "name": "stdout",
     "output_type": "stream",
     "text": [
      "Number of training examples = 34799\n",
      "Number of testing examples = 12630\n",
      "Image data shape = (32, 32, 3)\n",
      "Number of classes = 43\n"
     ]
    }
   ],
   "source": [
    "### Replace each question mark with the appropriate value. \n",
    "### Use python, pandas or numpy methods rather than hard coding the results\n",
    "import numpy as np\n",
    "# TODO: Number of training examples\n",
    "n_train = len(X_train)\n",
    "\n",
    "# TODO: Number of testing examples.\n",
    "n_test = len(X_test)\n",
    "\n",
    "# TODO: What's the shape of an traffic sign image?\n",
    "image_shape = (32, 32, 3)\n",
    "\n",
    "# TODO: How many unique classes/labels there are in the dataset.\n",
    "n_classes = (len(np.unique(y_train)))\n",
    "\n",
    "print(\"Number of training examples =\", n_train)\n",
    "print(\"Number of testing examples =\", n_test)\n",
    "print(\"Image data shape =\", image_shape)\n",
    "print(\"Number of classes =\", n_classes)"
   ]
  },
  {
   "cell_type": "markdown",
   "metadata": {
    "deletable": true,
    "editable": true
   },
   "source": [
    "### Include an exploratory visualization of the dataset"
   ]
  },
  {
   "cell_type": "markdown",
   "metadata": {
    "deletable": true,
    "editable": true
   },
   "source": [
    "Visualize the German Traffic Signs Dataset using the pickled file(s). This is open ended, suggestions include: plotting traffic sign images, plotting the count of each sign, etc.\n",
    "\n",
    "The [Matplotlib](http://matplotlib.org/) [examples](http://matplotlib.org/examples/index.html) and [gallery](http://matplotlib.org/gallery.html) pages are a great resource for doing visualizations in Python.\n",
    "\n",
    "**NOTE:** It's recommended you start with something simple first. If you wish to do more, come back to it after you've completed the rest of the sections."
   ]
  },
  {
   "cell_type": "code",
   "execution_count": 3,
   "metadata": {
    "collapsed": false,
    "deletable": true,
    "editable": true
   },
   "outputs": [
    {
     "data": {
      "image/png": "[encoded data removed]",
      "text/plain": [
       "<matplotlib.figure.Figure at 0x7f2cca102208>"
      ]
     },
     "metadata": {},
     "output_type": "display_data"
    },
    {
     "data": {
      "text/plain": [
       "<matplotlib.image.AxesImage at 0x7f2ca1e47898>"
      ]
     },
     "execution_count": 3,
     "metadata": {},
     "output_type": "execute_result"
    },
    {
     "data": {
      "image/png": "[encoded data removed]",
      "text/plain": [
       "<matplotlib.figure.Figure at 0x7f2ca1ef5b00>"
      ]
     },
     "metadata": {},
     "output_type": "display_data"
    }
   ],
   "source": [
    "### Data exploration visualization code goes here.\n",
    "### Feel free to use as many code cells as needed.\n",
    "import matplotlib.pyplot as plt\n",
    "from sklearn.utils import shuffle\n",
    "import cv2\n",
    "from skimage import exposure\n",
    "X_train, y_train = shuffle(X_train, y_train)\n",
    "image = X_train[0]\n",
    "gray = cv2.cvtColor(image, cv2.COLOR_RGB2GRAY)\n",
    "equ = cv2.equalizeHist(gray)\n",
    "b, g, r = cv2.split(image)\n",
    "red = cv2.equalizeHist(r)\n",
    "green = cv2.equalizeHist(g)\n",
    "blue = cv2.equalizeHist(b)\n",
    "res  = cv2.merge((b,g,r, equ))\n",
    "# Visualizations will be shown in the notebook.\n",
    "%matplotlib inline\n",
    "plt.figure(figsize=(2,2))\n",
    "plt.imshow(image)\n",
    "plt.show()\n",
    "plt.figure(figsize=(2,2))\n",
    "plt.imshow(res)"
   ]
  },
  {
   "cell_type": "markdown",
   "metadata": {
    "deletable": true,
    "editable": true
   },
   "source": [
    "----\n",
    "\n",
    "## Step 2: Design and Test a Model Architecture\n",
    "\n",
    "Design and implement a deep learning model that learns to recognize traffic signs. Train and test your model on the [German Traffic Sign Dataset](http://benchmark.ini.rub.de/?section=gtsrb&subsection=dataset).\n",
    "\n",
    "The LeNet-5 implementation shown in the [classroom](https://classroom.udacity.com/nanodegrees/nd013/parts/fbf77062-5703-404e-b60c-95b78b2f3f9e/modules/6df7ae49-c61c-4bb2-a23e-6527e69209ec/lessons/601ae704-1035-4287-8b11-e2c2716217ad/concepts/d4aca031-508f-4e0b-b493-e7b706120f81) at the end of the CNN lesson is a solid starting point. You'll have to change the number of classes and possibly the preprocessing, but aside from that it's plug and play! \n",
    "\n",
    "With the LeNet-5 solution from the lecture, you should expect a validation set accuracy of about 0.89. To meet specifications, the validation set accuracy will need to be at least 0.93. It is possible to get an even higher accuracy, but 0.93 is the minimum for a successful project submission. \n",
    "\n",
    "There are various aspects to consider when thinking about this problem:\n",
    "\n",
    "- Neural network architecture (is the network over or underfitting?)\n",
    "- Play around preprocessing techniques (normalization, rgb to grayscale, etc)\n",
    "- Number of examples per label (some have more than others).\n",
    "- Generate fake data.\n",
    "\n",
    "Here is an example of a [published baseline model on this problem](http://yann.lecun.com/exdb/publis/pdf/sermanet-ijcnn-11.pdf). It's not required to be familiar with the approach used in the paper but, it's good practice to try to read papers like these."
   ]
  },
  {
   "cell_type": "markdown",
   "metadata": {
    "deletable": true,
    "editable": true
   },
   "source": [
    "### Pre-process the Data Set (normalization, grayscale, etc.)"
   ]
  },
  {
   "cell_type": "markdown",
   "metadata": {
    "deletable": true,
    "editable": true
   },
   "source": [
    "Use the code cell (or multiple code cells, if necessary) to implement the first step of your project."
   ]
  },
  {
   "cell_type": "code",
   "execution_count": 4,
   "metadata": {
    "collapsed": false,
    "deletable": true,
    "editable": true
   },
   "outputs": [],
   "source": [
    "### Preprocess the data here. Preprocessing steps could include normalization, converting to grayscale, etc.\n",
    "### Feel free to use as many code cells as needed.\n",
    "import skimage.transform\n",
    "\n",
    "def equalizer(image):\n",
    "    gray = cv2.cvtColor(image, cv2.COLOR_RGB2GRAY)\n",
    "    equ = cv2.equalizeHist(gray)\n",
    "    b, g, r = cv2.split(image)\n",
    "    red = cv2.equalizeHist(r)\n",
    "    green = cv2.equalizeHist(g)\n",
    "    blue = cv2.equalizeHist(b)\n",
    "    \n",
    "    return cv2.merge((blue,green,red,equ))\n",
    "\n",
    "def normalize(image):\n",
    "    return ((image - np.min(image)) * 255)/(np.max(image) - np.min(image))\n",
    "                \n",
    "#def rotate(image, degree):\n",
    "#    return skimage.transform.rotate(image, degree)"
   ]
  },
  {
   "cell_type": "code",
   "execution_count": 5,
   "metadata": {
    "collapsed": false
   },
   "outputs": [],
   "source": [
    "Xt = []\n",
    "Xv = []\n",
    "#preprocessing\n",
    "for i in range(0, len(y_train)):\n",
    "    Xt.append(equalizer(X_train[i]))\n",
    "    Xt[i] = normalize(Xt[i])\n",
    "    if i < len(X_valid):\n",
    "        Xv.append(equalizer(X_valid[i]))\n",
    "        Xv[i] = normalize(Xv[i])\n",
    "X_train = np.reshape(Xt, (-1,32,32,4))\n",
    "X_valid = np.reshape(Xv, (-1,32,32,4))"
   ]
  },
  {
   "cell_type": "markdown",
   "metadata": {
    "deletable": true,
    "editable": true
   },
   "source": [
    "### Model Architecture"
   ]
  },
  {
   "cell_type": "code",
   "execution_count": 6,
   "metadata": {
    "collapsed": true,
    "deletable": true,
    "editable": true
   },
   "outputs": [],
   "source": [
    "### Define your architecture here.\n",
    "### Feel free to use as many code cells as needed.\n",
    "import tensorflow as tf\n",
    "\n",
    "EPOCHS = 85\n",
    "BATCH_SIZE = 128\n",
    "c = 4\n",
    "from tensorflow.contrib.layers import flatten\n",
    "\n",
    "\n",
    "def LeNet(x, prob):    \n",
    "    # Arguments used for tf.truncated_normal, randomly defines variables for the weights and biases for each layer\n",
    "    mu = 0\n",
    "    sigma = 0.1\n",
    "    \n",
    "# Layer 1: Convolutional. Input = 32x32x1. Output = 28x28x6.\n",
    "    conv1_W = tf.get_variable(\"M\", shape=(5,5,c,6),initializer=tf.contrib.layers.xavier_initializer_conv2d()) #tf.Variable(tf.truncated_normal(shape=(5, 5, c, 6), mean = mu, stddev = sigma))\n",
    "    conv1_b = tf.Variable(tf.zeros(6))\n",
    "    conv1   = tf.nn.conv2d(x, conv1_W, strides=[1, 1, 1, 1], padding='VALID', name='conv1') + conv1_b\n",
    "\n",
    "    # Activation.\n",
    "    conv1 = tf.nn.relu(conv1)\n",
    "     \n",
    "    # Pooling. Input = 28x28x6. Output = 14x14x6.\n",
    "    conv1 = tf.nn.max_pool(conv1, ksize=[1, 2, 2, 1], strides=[1, 2, 2, 1], padding='VALID')\n",
    "    conv1 = tf.nn.dropout(conv1, prob)\n",
    "    \n",
    "    #Layer 2: Convolutional. Output = 10x10x16.\n",
    "    conv2_W = tf.get_variable(\"X\", shape=(5,5,6,16),initializer=tf.contrib.layers.xavier_initializer_conv2d()) #tf.Variable(tf.truncated_normal(shape=(5, 5, 6, 16), mean = mu, stddev = sigma))\n",
    "    conv2_b = tf.Variable(tf.zeros(16))\n",
    "    conv2   = tf.nn.conv2d(conv1, conv2_W, strides=[1, 1, 1, 1], padding='VALID', name='conv2') + conv2_b\n",
    "    \n",
    "    # Activation.\n",
    "    conv2 = tf.nn.relu(conv2)\n",
    "    \n",
    "    # Input = 10x10x16. Output = 5x5x16.\n",
    "    conv2 = tf.nn.max_pool(conv2, ksize=[1, 2, 2, 1], strides=[1, 2, 2, 1], padding='VALID')\n",
    "    conv2 = tf.nn.dropout(conv2, prob)\n",
    "\n",
    "    # Flatten. Input = 5x5x16. Output = 400.\n",
    "    fc0   = flatten(conv2)\n",
    "    \n",
    "    #Layer 3: Fully Connected. Input = 400. Output = 120.\n",
    "    fc1_W = tf.get_variable(\"Y\", shape=(400,120),initializer=tf.contrib.layers.xavier_initializer()) #tf.Variable(tf.truncated_normal(shape=(400, 120), mean = mu, stddev = sigma))\n",
    "    fc1_b = tf.Variable(tf.zeros(120))\n",
    "    fc1   = tf.matmul(fc0, fc1_W) + fc1_b\n",
    "    \n",
    "    #Activation.\n",
    "    fc1 = tf.nn.relu(fc1)\n",
    "    fc1 =  tf.nn.dropout(fc1, prob)\n",
    "    \n",
    "\n",
    "    #Layer 4: Fully Connected. Input = 120. Output = 84.\n",
    "    fc2_W  = tf.get_variable(\"Z\", shape=(120,84),initializer=tf.contrib.layers.xavier_initializer()) #tf.Variable(tf.truncated_normal(shape=(120, 84), mean = mu, stddev = sigma))\n",
    "    fc2_b  = tf.Variable(tf.zeros(84))\n",
    "    fc2    = tf.matmul(fc1, fc2_W) + fc2_b\n",
    "    \n",
    "    # Activation.\n",
    "    fc2 = tf.nn.relu(fc2)\n",
    "    fc2 = tf.nn.dropout(fc2, prob)\n",
    "    \n",
    "    # Layer 5: Fully Connected. Input = 84. Output = 10.\n",
    "    fc3_W  = tf.get_variable(\"A\", shape=(84,43),initializer=tf.contrib.layers.xavier_initializer()) #tf.Variable(tf.truncated_normal(shape=(84, 43), mean = mu, stddev = sigma))\n",
    "    fc3_b  = tf.Variable(tf.zeros(43))\n",
    "    logits = tf.matmul(fc2, fc3_W) + fc3_b\n",
    "    \n",
    "    return logits"
   ]
  },
  {
   "cell_type": "markdown",
   "metadata": {
    "deletable": true,
    "editable": true
   },
   "source": [
    "### Train, Validate and Test the Model"
   ]
  },
  {
   "cell_type": "markdown",
   "metadata": {
    "deletable": true,
    "editable": true
   },
   "source": [
    "A validation set can be used to assess how well the model is performing. A low accuracy on the training and validation\n",
    "sets imply underfitting. A high accuracy on the training set but low accuracy on the validation set implies overfitting."
   ]
  },
  {
   "cell_type": "code",
   "execution_count": 7,
   "metadata": {
    "collapsed": false,
    "deletable": true,
    "editable": true
   },
   "outputs": [],
   "source": [
    "x = tf.placeholder(tf.float32, (None, 32, 32, c))\n",
    "y = tf.placeholder(tf.int32, (None))\n",
    "one_hot_y = tf.one_hot(y, 43)\n",
    "rate = 0.0015255\n",
    "prob = tf.placeholder(tf.float32)\n",
    "\n",
    "logits = LeNet(x, prob)\n",
    "cross_entropy = tf.nn.softmax_cross_entropy_with_logits(logits=logits, labels=one_hot_y)\n",
    "loss_operation = tf.reduce_mean(cross_entropy)\n",
    "optimizer = tf.train.AdamOptimizer(learning_rate = rate)\n",
    "training_operation = optimizer.minimize(loss_operation)\n",
    "### Train your model here.\n",
    "### Calculate and report the accuracy on the training and validation set.\n",
    "### Once a final model architecture is selected, \n",
    "### the accuracy on the test set should be calculated and reported as well.\n",
    "### Feel free to use as many code cells as needed.\n",
    "correct_prediction = tf.equal(tf.argmax(logits, 1), tf.argmax(one_hot_y, 1))\n",
    "accuracy_operation = tf.reduce_mean(tf.cast(correct_prediction, tf.float32))\n",
    "saver = tf.train.Saver()\n"
   ]
  },
  {
   "cell_type": "code",
   "execution_count": 8,
   "metadata": {
    "collapsed": false,
    "deletable": true,
    "editable": true,
    "scrolled": true
   },
   "outputs": [
    {
     "name": "stdout",
     "output_type": "stream",
     "text": [
      "Training...\n",
      "\n",
      "EPOCH 1 ...\n",
      "Validation Accuracy = 0.827\n",
      "Training Accuracy = 0.868\n",
      "\n",
      "EPOCH 2 ...\n",
      "Validation Accuracy = 0.897\n",
      "Training Accuracy = 0.942\n",
      "\n",
      "EPOCH 3 ...\n",
      "Validation Accuracy = 0.932\n",
      "Training Accuracy = 0.971\n",
      "\n",
      "EPOCH 4 ...\n",
      "Validation Accuracy = 0.939\n",
      "Training Accuracy = 0.979\n",
      "\n",
      "EPOCH 5 ...\n",
      "Validation Accuracy = 0.947\n",
      "Training Accuracy = 0.985\n",
      "\n",
      "EPOCH 6 ...\n",
      "Validation Accuracy = 0.951\n",
      "Training Accuracy = 0.990\n",
      "\n",
      "EPOCH 7 ...\n",
      "Validation Accuracy = 0.951\n",
      "Training Accuracy = 0.991\n",
      "\n",
      "EPOCH 8 ...\n",
      "Validation Accuracy = 0.953\n",
      "Training Accuracy = 0.990\n",
      "\n",
      "EPOCH 9 ...\n",
      "Validation Accuracy = 0.961\n",
      "Training Accuracy = 0.992\n",
      "\n",
      "EPOCH 10 ...\n",
      "Validation Accuracy = 0.963\n",
      "Training Accuracy = 0.995\n",
      "\n",
      "EPOCH 11 ...\n",
      "Validation Accuracy = 0.958\n",
      "Training Accuracy = 0.995\n",
      "\n",
      "EPOCH 12 ...\n",
      "Validation Accuracy = 0.956\n",
      "Training Accuracy = 0.995\n",
      "\n",
      "EPOCH 13 ...\n",
      "Validation Accuracy = 0.963\n",
      "Training Accuracy = 0.997\n",
      "\n",
      "EPOCH 14 ...\n",
      "Validation Accuracy = 0.962\n",
      "Training Accuracy = 0.997\n",
      "\n",
      "EPOCH 15 ...\n",
      "Validation Accuracy = 0.966\n",
      "Training Accuracy = 0.998\n",
      "\n",
      "EPOCH 16 ...\n",
      "Validation Accuracy = 0.968\n",
      "Training Accuracy = 0.998\n",
      "\n",
      "EPOCH 17 ...\n",
      "Validation Accuracy = 0.968\n",
      "Training Accuracy = 0.998\n",
      "\n",
      "EPOCH 18 ...\n",
      "Validation Accuracy = 0.963\n",
      "Training Accuracy = 0.998\n",
      "\n",
      "EPOCH 19 ...\n",
      "Validation Accuracy = 0.965\n",
      "Training Accuracy = 0.998\n",
      "\n",
      "EPOCH 20 ...\n",
      "Validation Accuracy = 0.968\n",
      "Training Accuracy = 0.998\n",
      "\n",
      "EPOCH 21 ...\n",
      "Validation Accuracy = 0.967\n",
      "Training Accuracy = 0.998\n",
      "\n",
      "EPOCH 22 ...\n",
      "Validation Accuracy = 0.963\n",
      "Training Accuracy = 0.998\n",
      "\n",
      "EPOCH 23 ...\n",
      "Validation Accuracy = 0.966\n",
      "Training Accuracy = 0.999\n",
      "\n",
      "EPOCH 24 ...\n",
      "Validation Accuracy = 0.963\n",
      "Training Accuracy = 0.998\n",
      "\n",
      "EPOCH 25 ...\n",
      "Validation Accuracy = 0.960\n",
      "Training Accuracy = 0.997\n",
      "\n",
      "EPOCH 26 ...\n",
      "Validation Accuracy = 0.971\n",
      "Training Accuracy = 0.998\n",
      "\n",
      "EPOCH 27 ...\n",
      "Validation Accuracy = 0.967\n",
      "Training Accuracy = 0.999\n",
      "\n",
      "EPOCH 28 ...\n",
      "Validation Accuracy = 0.968\n",
      "Training Accuracy = 0.999\n",
      "\n",
      "EPOCH 29 ...\n",
      "Validation Accuracy = 0.967\n",
      "Training Accuracy = 0.999\n",
      "\n",
      "EPOCH 30 ...\n",
      "Validation Accuracy = 0.966\n",
      "Training Accuracy = 0.999\n",
      "\n",
      "EPOCH 31 ...\n",
      "Validation Accuracy = 0.970\n",
      "Training Accuracy = 0.999\n",
      "\n",
      "EPOCH 32 ...\n",
      "Validation Accuracy = 0.969\n",
      "Training Accuracy = 0.999\n",
      "\n",
      "EPOCH 33 ...\n",
      "Validation Accuracy = 0.973\n",
      "Training Accuracy = 0.999\n",
      "\n",
      "EPOCH 34 ...\n",
      "Validation Accuracy = 0.967\n",
      "Training Accuracy = 0.999\n",
      "\n",
      "EPOCH 35 ...\n",
      "Validation Accuracy = 0.969\n",
      "Training Accuracy = 0.999\n",
      "\n",
      "EPOCH 36 ...\n",
      "Validation Accuracy = 0.967\n",
      "Training Accuracy = 0.999\n",
      "\n",
      "EPOCH 37 ...\n",
      "Validation Accuracy = 0.970\n",
      "Training Accuracy = 0.999\n",
      "\n",
      "EPOCH 38 ...\n",
      "Validation Accuracy = 0.970\n",
      "Training Accuracy = 0.999\n",
      "\n",
      "EPOCH 39 ...\n",
      "Validation Accuracy = 0.968\n",
      "Training Accuracy = 0.999\n",
      "\n",
      "EPOCH 40 ...\n",
      "Validation Accuracy = 0.971\n",
      "Training Accuracy = 1.000\n",
      "\n",
      "EPOCH 41 ...\n",
      "Validation Accuracy = 0.970\n",
      "Training Accuracy = 0.999\n",
      "\n",
      "EPOCH 42 ...\n",
      "Validation Accuracy = 0.967\n",
      "Training Accuracy = 0.999\n",
      "\n",
      "EPOCH 43 ...\n",
      "Validation Accuracy = 0.975\n",
      "Training Accuracy = 1.000\n",
      "\n",
      "EPOCH 44 ...\n",
      "Validation Accuracy = 0.971\n",
      "Training Accuracy = 0.999\n",
      "\n",
      "EPOCH 45 ...\n",
      "Validation Accuracy = 0.968\n",
      "Training Accuracy = 0.998\n",
      "\n",
      "EPOCH 46 ...\n",
      "Validation Accuracy = 0.969\n",
      "Training Accuracy = 1.000\n",
      "\n",
      "EPOCH 47 ...\n",
      "Validation Accuracy = 0.965\n",
      "Training Accuracy = 0.999\n",
      "\n",
      "EPOCH 48 ...\n",
      "Validation Accuracy = 0.968\n",
      "Training Accuracy = 0.999\n",
      "\n",
      "EPOCH 49 ...\n",
      "Validation Accuracy = 0.971\n",
      "Training Accuracy = 0.999\n",
      "\n",
      "EPOCH 50 ...\n",
      "Validation Accuracy = 0.969\n",
      "Training Accuracy = 0.999\n",
      "\n",
      "EPOCH 51 ...\n",
      "Validation Accuracy = 0.960\n",
      "Training Accuracy = 0.999\n",
      "\n",
      "EPOCH 52 ...\n",
      "Validation Accuracy = 0.973\n",
      "Training Accuracy = 1.000\n",
      "\n",
      "EPOCH 53 ...\n",
      "Validation Accuracy = 0.972\n",
      "Training Accuracy = 1.000\n",
      "\n",
      "EPOCH 54 ...\n",
      "Validation Accuracy = 0.974\n",
      "Training Accuracy = 1.000\n",
      "\n",
      "EPOCH 55 ...\n",
      "Validation Accuracy = 0.971\n",
      "Training Accuracy = 1.000\n",
      "\n",
      "EPOCH 56 ...\n",
      "Validation Accuracy = 0.972\n",
      "Training Accuracy = 1.000\n",
      "\n",
      "EPOCH 57 ...\n",
      "Validation Accuracy = 0.967\n",
      "Training Accuracy = 1.000\n",
      "\n",
      "EPOCH 58 ...\n",
      "Validation Accuracy = 0.973\n",
      "Training Accuracy = 1.000\n",
      "\n",
      "EPOCH 59 ...\n",
      "Validation Accuracy = 0.971\n",
      "Training Accuracy = 0.999\n",
      "\n",
      "EPOCH 60 ...\n",
      "Validation Accuracy = 0.973\n",
      "Training Accuracy = 1.000\n",
      "\n",
      "EPOCH 61 ...\n",
      "Validation Accuracy = 0.971\n",
      "Training Accuracy = 1.000\n",
      "\n",
      "EPOCH 62 ...\n",
      "Validation Accuracy = 0.973\n",
      "Training Accuracy = 1.000\n",
      "\n",
      "EPOCH 63 ...\n",
      "Validation Accuracy = 0.968\n",
      "Training Accuracy = 0.999\n",
      "\n",
      "EPOCH 64 ...\n",
      "Validation Accuracy = 0.972\n",
      "Training Accuracy = 1.000\n",
      "\n",
      "EPOCH 65 ...\n",
      "Validation Accuracy = 0.970\n",
      "Training Accuracy = 1.000\n",
      "\n",
      "EPOCH 66 ...\n",
      "Validation Accuracy = 0.967\n",
      "Training Accuracy = 1.000\n",
      "\n",
      "EPOCH 67 ...\n",
      "Validation Accuracy = 0.964\n",
      "Training Accuracy = 0.999\n",
      "\n",
      "EPOCH 68 ...\n",
      "Validation Accuracy = 0.966\n",
      "Training Accuracy = 0.998\n",
      "\n",
      "EPOCH 69 ...\n",
      "Validation Accuracy = 0.971\n",
      "Training Accuracy = 1.000\n",
      "\n",
      "EPOCH 70 ...\n",
      "Validation Accuracy = 0.973\n",
      "Training Accuracy = 1.000\n",
      "\n",
      "EPOCH 71 ...\n",
      "Validation Accuracy = 0.973\n",
      "Training Accuracy = 1.000\n",
      "\n",
      "EPOCH 72 ...\n",
      "Validation Accuracy = 0.971\n",
      "Training Accuracy = 1.000\n",
      "\n",
      "EPOCH 73 ...\n",
      "Validation Accuracy = 0.973\n",
      "Training Accuracy = 1.000\n",
      "\n",
      "EPOCH 74 ...\n",
      "Validation Accuracy = 0.968\n",
      "Training Accuracy = 1.000\n",
      "\n",
      "EPOCH 75 ...\n",
      "Validation Accuracy = 0.969\n",
      "Training Accuracy = 1.000\n",
      "\n",
      "EPOCH 76 ...\n",
      "Validation Accuracy = 0.976\n",
      "Training Accuracy = 1.000\n",
      "\n",
      "EPOCH 77 ...\n",
      "Validation Accuracy = 0.970\n",
      "Training Accuracy = 1.000\n",
      "\n",
      "EPOCH 78 ...\n",
      "Validation Accuracy = 0.970\n",
      "Training Accuracy = 1.000\n",
      "\n",
      "EPOCH 79 ...\n",
      "Validation Accuracy = 0.971\n",
      "Training Accuracy = 1.000\n",
      "\n",
      "EPOCH 80 ...\n",
      "Validation Accuracy = 0.974\n",
      "Training Accuracy = 0.999\n",
      "\n",
      "EPOCH 81 ...\n",
      "Validation Accuracy = 0.976\n",
      "Training Accuracy = 1.000\n",
      "\n",
      "EPOCH 82 ...\n",
      "Validation Accuracy = 0.974\n",
      "Training Accuracy = 1.000\n",
      "\n",
      "EPOCH 83 ...\n",
      "Validation Accuracy = 0.971\n",
      "Training Accuracy = 0.999\n",
      "\n",
      "EPOCH 84 ...\n",
      "Validation Accuracy = 0.975\n",
      "Training Accuracy = 1.000\n",
      "\n",
      "EPOCH 85 ...\n",
      "Validation Accuracy = 0.978\n",
      "Training Accuracy = 1.000\n",
      "\n",
      "Model saved\n"
     ]
    }
   ],
   "source": [
    "\n",
    "def evaluate(X_data, y_data):\n",
    "    num_examples = len(X_data)\n",
    "    total_accuracy = 0\n",
    "    sess = tf.get_default_session()\n",
    "    for offset in range(0, num_examples, BATCH_SIZE):\n",
    "        batch_x, batch_y = X_data[offset:offset+BATCH_SIZE], y_data[offset:offset+BATCH_SIZE]\n",
    "        accuracy = sess.run(accuracy_operation, feed_dict={x: batch_x, y: batch_y, prob: 1})\n",
    "        total_accuracy += (accuracy * len(batch_x))\n",
    "    return total_accuracy / num_examples\n",
    "\n",
    "with tf.Session() as sess:\n",
    "    sess.run(tf.global_variables_initializer())\n",
    "    num_examples = len(X_train)\n",
    "    \n",
    "    print(\"Training...\")\n",
    "    print()\n",
    "    for i in range(EPOCHS):\n",
    "        X_train, y_train = shuffle(X_train, y_train)\n",
    "        for offset in range(0, num_examples, BATCH_SIZE):\n",
    "            end = offset + BATCH_SIZE\n",
    "            batch_x, batch_y = X_train[offset:end], y_train[offset:end]\n",
    "            sess.run(training_operation, feed_dict={x: batch_x, y: batch_y, prob: 0.88})\n",
    "            \n",
    "        validation_accuracy = evaluate(X_valid, y_valid)\n",
    "        training_accuracy = evaluate(X_train, y_train)\n",
    "        print(\"EPOCH {} ...\".format(i+1))\n",
    "        print(\"Validation Accuracy = {:.3f}\".format(validation_accuracy))\n",
    "        print(\"Training Accuracy = {:.3f}\".format(training_accuracy))\n",
    "        #print(\"Validation Loss\", validation_loss)\n",
    "        #print(\"Training Loss\", training_loss)\n",
    "        print()\n",
    "        \n",
    "    saver.save(sess, './lenet')\n",
    "    print(\"Model saved\")"
   ]
  },
  {
   "cell_type": "markdown",
   "metadata": {
    "deletable": true,
    "editable": true
   },
   "source": [
    "---\n",
    "\n",
    "## Step 3: Test a Model on New Images\n",
    "\n",
    "To give yourself more insight into how your model is working, download at least five pictures of German traffic signs from the web and use your model to predict the traffic sign type.\n",
    "\n",
    "You may find `signnames.csv` useful as it contains mappings from the class id (integer) to the actual sign name."
   ]
  },
  {
   "cell_type": "markdown",
   "metadata": {
    "deletable": true,
    "editable": true
   },
   "source": [
    "### Load and Output the Images"
   ]
  },
  {
   "cell_type": "code",
   "execution_count": 9,
   "metadata": {
    "collapsed": false,
    "deletable": true,
    "editable": true
   },
   "outputs": [
    {
     "name": "stdout",
     "output_type": "stream",
     "text": [
      "['f.jpg', 'c.jpg', 'mifuUb0.jpg', 'a.jpg', 'images (4).jpg', 'deer.jpg', '100_rendhagyó_ige.jpg', 'images (1).jpg', 'images.jpg', 'images (6).jpg', '100_1607.jpg', 'images (7).jpg', 'images (3).jpg', 'Right_turn_on_red_Belgrade,_Serbia.JPG', 'e.jpg']\n"
     ]
    },
    {
     "data": {
      "image/png": "[encoded data removed]",
      "text/plain": [
       "<matplotlib.figure.Figure at 0x7f2c290779b0>"
      ]
     },
     "metadata": {},
     "output_type": "display_data"
    },
    {
     "data": {
      "image/png": "[encoded data removed]",
      "text/plain": [
       "<matplotlib.figure.Figure at 0x7f2c9dcfef98>"
      ]
     },
     "metadata": {},
     "output_type": "display_data"
    },
    {
     "data": {
      "image/png": "[encoded data removed]",
      "text/plain": [
       "<matplotlib.figure.Figure at 0x7f2ca1e58278>"
      ]
     },
     "metadata": {},
     "output_type": "display_data"
    },
    {
     "data": {
      "image/png": "[encoded data removed]",
      "text/plain": [
       "<matplotlib.figure.Figure at 0x7f2c9dd00ef0>"
      ]
     },
     "metadata": {},
     "output_type": "display_data"
    },
    {
     "data": {
      "image/png": "[encoded data removed]",
      "text/plain": [
       "<matplotlib.figure.Figure at 0x7f2c9dbc8f28>"
      ]
     },
     "metadata": {},
     "output_type": "display_data"
    },
    {
     "data": {
      "image/png": "[encoded data removed]",
      "text/plain": [
       "<matplotlib.figure.Figure at 0x7f2c9dce87f0>"
      ]
     },
     "metadata": {},
     "output_type": "display_data"
    },
    {
     "data": {
      "image/png": "[encoded data removed]",
      "text/plain": [
       "<matplotlib.figure.Figure at 0x7f2c9dc77940>"
      ]
     },
     "metadata": {},
     "output_type": "display_data"
    },
    {
     "data": {
      "image/png": "[encoded data removed]",
      "text/plain": [
       "<matplotlib.figure.Figure at 0x7f2c9dbb5fd0>"
      ]
     },
     "metadata": {},
     "output_type": "display_data"
    },
    {
     "data": {
      "image/png": "[encoded data removed]",
      "text/plain": [
       "<matplotlib.figure.Figure at 0x7f2c9daea160>"
      ]
     },
     "metadata": {},
     "output_type": "display_data"
    },
    {
     "data": {
      "image/png": "[encoded data removed]",
      "text/plain": [
       "<matplotlib.figure.Figure at 0x7f2c9dce3eb8>"
      ]
     },
     "metadata": {},
     "output_type": "display_data"
    },
    {
     "data": {
      "image/png": "[encoded data removed]",
      "text/plain": [
       "<matplotlib.figure.Figure at 0x7f2c99f62eb8>"
      ]
     },
     "metadata": {},
     "output_type": "display_data"
    },
    {
     "data": {
      "image/png": "[encoded data removed]",
      "text/plain": [
       "<matplotlib.figure.Figure at 0x7f2c99f47908>"
      ]
     },
     "metadata": {},
     "output_type": "display_data"
    },
    {
     "data": {
      "image/png": "[encoded data removed]",
      "text/plain": [
       "<matplotlib.figure.Figure at 0x7f2c99ea1c18>"
      ]
     },
     "metadata": {},
     "output_type": "display_data"
    },
    {
     "data": {
      "image/png": "[encoded data removed]",
      "text/plain": [
       "<matplotlib.figure.Figure at 0x7f2c99e24a20>"
      ]
     },
     "metadata": {},
     "output_type": "display_data"
    },
    {
     "data": {
      "image/png": "[encoded data removed]",
      "text/plain": [
       "<matplotlib.figure.Figure at 0x7f2c99e00668>"
      ]
     },
     "metadata": {},
     "output_type": "display_data"
    }
   ],
   "source": [
    "### Load the images and plot them here.\n",
    "### Feel free to use as many code cells as needed.\n",
    "import os\n",
    "import skimage.io\n",
    "online_img = os.listdir(\"images/\")\n",
    "img_arr = []\n",
    "print(online_img)\n",
    "folder = 'images/'\n",
    "for i in online_img:\n",
    "    path = folder + i\n",
    "    img = skimage.io.imread(path)\n",
    "    img = cv2.resize(img, (32,32))\n",
    "    img_arr.append(img) \n",
    "    plt.imshow(img)\n",
    "    plt.show()"
   ]
  },
  {
   "cell_type": "markdown",
   "metadata": {
    "deletable": true,
    "editable": true
   },
   "source": [
    "### Predict the Sign Type for Each Image"
   ]
  },
  {
   "cell_type": "code",
   "execution_count": 10,
   "metadata": {
    "collapsed": false,
    "deletable": true,
    "editable": true
   },
   "outputs": [
    {
     "name": "stdout",
     "output_type": "stream",
     "text": [
      "0\n",
      "1\n",
      "2\n",
      "3\n",
      "4\n",
      "5\n",
      "6\n",
      "7\n",
      "8\n",
      "9\n",
      "10\n",
      "11\n",
      "12\n",
      "13\n",
      "14\n"
     ]
    }
   ],
   "source": [
    "### Run the predictions here and use the model to output the prediction for each image.\n",
    "### Make sure to pre-process the images with the same pre-processing pipeline used earlier.\n",
    "### Feel free to use as many code cells as needed.\n",
    "Xt = []\n",
    "for i in range(0, len(img_arr)):\n",
    "    print(i)\n",
    "    Xt.append(equalizer(img_arr[i]))\n",
    "    Xt[i] = normalize(Xt[i])\n",
    "img_arr = np.reshape(Xt, (-1,32,32,4))\n",
    "\n",
    "w_test = [30, 22, 25, 18, 14, 31, 7, 22, 23, 4, 11, 2, 35, 33, 1]"
   ]
  },
  {
   "cell_type": "markdown",
   "metadata": {
    "deletable": true,
    "editable": true
   },
   "source": [
    "### Analyze Performance"
   ]
  },
  {
   "cell_type": "code",
   "execution_count": 11,
   "metadata": {
    "collapsed": false,
    "deletable": true,
    "editable": true
   },
   "outputs": [
    {
     "name": "stdout",
     "output_type": "stream",
     "text": [
      "0.733333349228\n"
     ]
    }
   ],
   "source": [
    "### Calculate the accuracy for these 5 new images. \n",
    "### For example, if the model predicted 1 out of 5 signs correctly, it's 20% accurate on these new images.\n",
    "# Launch the graph\n",
    "with tf.Session() as sess:\n",
    "    saver.restore(sess, './lenet')\n",
    "    web_accuracy = evaluate(img_arr, w_test)\n",
    "    print(web_accuracy)"
   ]
  },
  {
   "cell_type": "markdown",
   "metadata": {
    "deletable": true,
    "editable": true
   },
   "source": [
    "### Output Top 5 Softmax Probabilities For Each Image Found on the Web"
   ]
  },
  {
   "cell_type": "markdown",
   "metadata": {
    "deletable": true,
    "editable": true
   },
   "source": [
    "For each of the new images, print out the model's softmax probabilities to show the **certainty** of the model's predictions (limit the output to the top 5 probabilities for each image). [`tf.nn.top_k`](https://www.tensorflow.org/versions/r0.12/api_docs/python/nn.html#top_k) could prove helpful here. \n",
    "\n",
    "The example below demonstrates how tf.nn.top_k can be used to find the top k predictions for each image.\n",
    "\n",
    "`tf.nn.top_k` will return the values and indices (class ids) of the top k predictions. So if k=3, for each sign, it'll return the 3 largest probabilities (out of a possible 43) and the correspoding class ids.\n",
    "\n",
    "Take this numpy array as an example. The values in the array represent predictions. The array contains softmax probabilities for five candidate images with six possible classes. `tk.nn.top_k` is used to choose the three classes with the highest probability:\n",
    "\n",
    "```\n",
    "# (5, 6) array\n",
    "a = np.array([[ 0.24879643,  0.07032244,  0.12641572,  0.34763842,  0.07893497,\n",
    "         0.12789202],\n",
    "       [ 0.28086119,  0.27569815,  0.08594638,  0.0178669 ,  0.18063401,\n",
    "         0.15899337],\n",
    "       [ 0.26076848,  0.23664738,  0.08020603,  0.07001922,  0.1134371 ,\n",
    "         0.23892179],\n",
    "       [ 0.11943333,  0.29198961,  0.02605103,  0.26234032,  0.1351348 ,\n",
    "         0.16505091],\n",
    "       [ 0.09561176,  0.34396535,  0.0643941 ,  0.16240774,  0.24206137,\n",
    "         0.09155967]])\n",
    "```\n",
    "\n",
    "Running it through `sess.run(tf.nn.top_k(tf.constant(a), k=3))` produces:\n",
    "\n",
    "```\n",
    "TopKV2(values=array([[ 0.34763842,  0.24879643,  0.12789202],\n",
    "       [ 0.28086119,  0.27569815,  0.18063401],\n",
    "       [ 0.26076848,  0.23892179,  0.23664738],\n",
    "       [ 0.29198961,  0.26234032,  0.16505091],\n",
    "       [ 0.34396535,  0.24206137,  0.16240774]]), indices=array([[3, 0, 5],\n",
    "       [0, 1, 4],\n",
    "       [0, 5, 1],\n",
    "       [1, 3, 5],\n",
    "       [1, 4, 3]], dtype=int32))\n",
    "```\n",
    "\n",
    "Looking just at the first row we get `[ 0.34763842,  0.24879643,  0.12789202]`, you can confirm these are the 3 largest probabilities in `a`. You'll also notice `[3, 0, 5]` are the corresponding indices."
   ]
  },
  {
   "cell_type": "code",
   "execution_count": 12,
   "metadata": {
    "collapsed": false,
    "deletable": true,
    "editable": true
   },
   "outputs": [
    {
     "name": "stdout",
     "output_type": "stream",
     "text": [
      "TopKV2(values=array([[  9.93165433e-01,   6.37401361e-03,   4.42845863e-04,\n",
      "          1.68651823e-05,   4.78843276e-07]], dtype=float32), indices=array([[30, 28, 11, 23, 20]], dtype=int32))\n",
      "\n",
      "\n",
      "TopKV2(values=array([[  1.00000000e+00,   3.17523258e-10,   1.35318659e-10,\n",
      "          1.54434954e-11,   3.65397464e-13]], dtype=float32), indices=array([[22, 29, 34, 28, 26]], dtype=int32))\n",
      "\n",
      "\n",
      "TopKV2(values=array([[  9.99990702e-01,   3.68989959e-06,   2.40987470e-06,\n",
      "          1.77026607e-06,   8.49060598e-07]], dtype=float32), indices=array([[25, 31, 26, 20, 18]], dtype=int32))\n",
      "\n",
      "\n",
      "TopKV2(values=array([[  9.99498963e-01,   4.53908840e-04,   3.96792857e-05,\n",
      "          3.64735024e-06,   1.72542832e-06]], dtype=float32), indices=array([[18, 26, 27, 21, 11]], dtype=int32))\n",
      "\n",
      "\n",
      "TopKV2(values=array([[  9.91435111e-01,   8.26086383e-03,   1.36614748e-04,\n",
      "          1.05903491e-04,   2.58478885e-05]], dtype=float32), indices=array([[14,  3,  8, 17, 20]], dtype=int32))\n",
      "\n",
      "\n",
      "TopKV2(values=array([[  9.99999523e-01,   2.80402304e-07,   4.10940331e-08,\n",
      "          3.79956226e-08,   1.90770688e-08]], dtype=float32), indices=array([[31, 11,  1,  3, 21]], dtype=int32))\n",
      "\n",
      "\n",
      "TopKV2(values=array([[ 0.49766114,  0.14518803,  0.1425119 ,  0.12346865,  0.05634564]], dtype=float32), indices=array([[11,  5, 42,  6, 20]], dtype=int32))\n",
      "\n",
      "\n",
      "TopKV2(values=array([[  9.99743879e-01,   1.43333484e-04,   1.09788954e-04,\n",
      "          2.85006968e-06,   7.15854469e-08]], dtype=float32), indices=array([[22, 18, 26, 31, 23]], dtype=int32))\n",
      "\n",
      "\n",
      "TopKV2(values=array([[ 0.75777811,  0.08456151,  0.043806  ,  0.02636491,  0.02506993]], dtype=float32), indices=array([[40, 42,  5, 31, 41]], dtype=int32))\n",
      "\n",
      "\n",
      "TopKV2(values=array([[  9.99996901e-01,   3.06124480e-06,   4.41441408e-08,\n",
      "          2.02691444e-12,   9.17874175e-13]], dtype=float32), indices=array([[4, 0, 1, 6, 8]], dtype=int32))\n",
      "\n",
      "\n",
      "TopKV2(values=array([[  9.23398077e-01,   7.63409957e-02,   8.23122755e-05,\n",
      "          6.38025376e-05,   5.18746019e-05]], dtype=float32), indices=array([[11, 30, 40, 28, 24]], dtype=int32))\n",
      "\n",
      "\n",
      "TopKV2(values=array([[  6.82397246e-01,   2.54961193e-01,   6.24006093e-02,\n",
      "          1.74323533e-04,   1.81131709e-05]], dtype=float32), indices=array([[34, 38, 40, 30, 12]], dtype=int32))\n",
      "\n",
      "\n",
      "TopKV2(values=array([[  9.99803007e-01,   1.96919529e-04,   1.28485311e-07,\n",
      "          3.11320747e-08,   1.03076294e-08]], dtype=float32), indices=array([[35, 36, 13, 15,  3]], dtype=int32))\n",
      "\n",
      "\n",
      "TopKV2(values=array([[ 0.48409113,  0.20069559,  0.18037033,  0.0738982 ,  0.02618326]], dtype=float32), indices=array([[35, 34,  1,  3, 17]], dtype=int32))\n",
      "\n",
      "\n",
      "TopKV2(values=array([[  9.75055337e-01,   2.44145375e-02,   3.61174258e-04,\n",
      "          7.88188263e-05,   4.42395503e-05]], dtype=float32), indices=array([[ 1,  2, 31, 39,  0]], dtype=int32))\n",
      "\n",
      "\n"
     ]
    }
   ],
   "source": [
    "### Print out the top five softmax probabilities for the predictions on the German traffic sign images found on the web. \n",
    "### Feel free to use as many code cells as needed.\n",
    "for a in img_arr:\n",
    "    with tf.Session() as sess:\n",
    "        saver.restore(sess, tf.train.latest_checkpoint('.'))\n",
    "        top5 = sess.run(tf.nn.top_k(tf.nn.softmax(logits), k=5), feed_dict={x: [a], prob: 1.0})\n",
    "        print(top5)\n",
    "        print(\"\\n\")"
   ]
  },
  {
   "cell_type": "markdown",
   "metadata": {
    "deletable": true,
    "editable": true
   },
   "source": [
    "---\n",
    "\n",
    "## Step 4: Visualize the Neural Network's State with Test Images\n",
    "\n",
    " This Section is not required to complete but acts as an additional excersise for understaning the output of a neural network's weights. While neural networks can be a great learning device they are often referred to as a black box. We can understand what the weights of a neural network look like better by plotting their feature maps. After successfully training your neural network you can see what it's feature maps look like by plotting the output of the network's weight layers in response to a test stimuli image. From these plotted feature maps, it's possible to see what characteristics of an image the network finds interesting. For a sign, maybe the inner network feature maps react with high activation to the sign's boundary outline or to the contrast in the sign's painted symbol.\n",
    "\n",
    " Provided for you below is the function code that allows you to get the visualization output of any tensorflow weight layer you want. The inputs to the function should be a stimuli image, one used during training or a new one you provided, and then the tensorflow variable name that represents the layer's state during the training process, for instance if you wanted to see what the [LeNet lab's](https://classroom.udacity.com/nanodegrees/nd013/parts/fbf77062-5703-404e-b60c-95b78b2f3f9e/modules/6df7ae49-c61c-4bb2-a23e-6527e69209ec/lessons/601ae704-1035-4287-8b11-e2c2716217ad/concepts/d4aca031-508f-4e0b-b493-e7b706120f81) feature maps looked like for it's second convolutional layer you could enter conv2 as the tf_activation variable.\n",
    "\n",
    "For an example of what feature map outputs look like, check out NVIDIA's results in their paper [End-to-End Deep Learning for Self-Driving Cars](https://devblogs.nvidia.com/parallelforall/deep-learning-self-driving-cars/) in the section Visualization of internal CNN State. NVIDIA was able to show that their network's inner weights had high activations to road boundary lines by comparing feature maps from an image with a clear path to one without. Try experimenting with a similar test to show that your trained network's weights are looking for interesting features, whether it's looking at differences in feature maps from images with or without a sign, or even what feature maps look like in a trained network vs a completely untrained one on the same sign image.\n",
    "\n",
    "<figure>\n",
    " <img src=\"visualize_cnn.png\" width=\"380\" alt=\"Combined Image\" />\n",
    " <figcaption>\n",
    " <p></p> \n",
    " <p style=\"text-align: center;\"> Your output should look something like this (above)</p> \n",
    " </figcaption>\n",
    "</figure>\n",
    " <p></p> \n"
   ]
  },
  {
   "cell_type": "code",
   "execution_count": null,
   "metadata": {
    "collapsed": false,
    "deletable": true,
    "editable": true
   },
   "outputs": [],
   "source": [
    "### Visualize your network's feature maps here.\n",
    "### Feel free to use as many code cells as needed.\n",
    "\n",
    "# image_input: the test image being fed into the network to produce the feature maps\n",
    "# tf_activation: should be a tf variable name used during your training procedure that represents the calculated state of a specific weight layer\n",
    "# activation_min/max: can be used to view the activation contrast in more detail, by default matplot sets min and max to the actual min and max values of the output\n",
    "# plt_num: used to plot out multiple different weight feature map sets on the same block, just extend the plt number for each new feature map entry\n",
    "def outputFeatureMap(image_input, tf_activation, activation_min=-1, activation_max=-1 ,plt_num=1):\n",
    "    # Here make sure to preprocess your image_input in a way your network expects\n",
    "    # with size, normalization, ect if needed\n",
    "    # image_input =\n",
    "    # Note: x should be the same name as your network's tensorflow data placeholder variable\n",
    "    # If you get an error tf_activation is not defined it maybe having trouble accessing the variable from inside a function\n",
    "    activation = tf_activation.eval(session=sess,feed_dict={x : image_input})\n",
    "    featuremaps = activation.shape[3]\n",
    "    plt.figure(plt_num, figsize=(15,15))\n",
    "    for featuremap in range(featuremaps):\n",
    "        plt.subplot(6,8, featuremap+1) # sets the number of feature maps to show on each row and column\n",
    "        plt.title('FeatureMap ' + str(featuremap)) # displays the feature map number\n",
    "        if activation_min != -1 & activation_max != -1:\n",
    "            plt.imshow(activation[0,:,:, featuremap], interpolation=\"nearest\", vmin =activation_min, vmax=activation_max, cmap=\"gray\")\n",
    "        elif activation_max != -1:\n",
    "            plt.imshow(activation[0,:,:, featuremap], interpolation=\"nearest\", vmax=activation_max, cmap=\"gray\")\n",
    "        elif activation_min !=-1:\n",
    "            plt.imshow(activation[0,:,:, featuremap], interpolation=\"nearest\", vmin=activation_min, cmap=\"gray\")\n",
    "        else:\n",
    "            plt.imshow(activation[0,:,:, featuremap], interpolation=\"nearest\", cmap=\"gray\")\n",
    "            "
   ]
  },
  {
   "cell_type": "code",
   "execution_count": null,
   "metadata": {
    "collapsed": false
   },
   "outputs": [],
   "source": [
    "with tf.Session() as sess:\n",
    "    saver.restore(sess, './lenet')\n",
    "    activation = sess.graph.get_tensor_by_name(\"conv2:0\")            \n",
    "    outputFeatureMap(X_train, activation)"
   ]
  },
  {
   "cell_type": "markdown",
   "metadata": {
    "deletable": true,
    "editable": true
   },
   "source": [
    "### Question 9\n",
    "\n",
    "Discuss how you used the visual output of your trained network's feature maps to show that it had learned to look for interesting characteristics in traffic sign images\n"
   ]
  },
  {
   "cell_type": "markdown",
   "metadata": {
    "deletable": true,
    "editable": true
   },
   "source": [
    "**Answer:**"
   ]
  },
  {
   "cell_type": "markdown",
   "metadata": {
    "deletable": true,
    "editable": true
   },
   "source": [
    "> **Note**: Once you have completed all of the code implementations and successfully answered each question above, you may finalize your work by exporting the iPython Notebook as an HTML document. You can do this by using the menu above and navigating to  \\n\",\n",
    "    \"**File -> Download as -> HTML (.html)**. Include the finished document along with this notebook as your submission."
   ]
  },
  {
   "cell_type": "markdown",
   "metadata": {
    "deletable": true,
    "editable": true
   },
   "source": [
    "### Project Writeup\n",
    "\n",
    "Once you have completed the code implementation, document your results in a project writeup using this [template](https://github.com/udacity/CarND-Traffic-Sign-Classifier-Project/blob/master/writeup_template.md) as a guide. The writeup can be in a markdown or pdf file. "
   ]
  }
 ],
 "metadata": {
  "anaconda-cloud": {},
  "kernelspec": {
   "display_name": "Python 3",
   "language": "python",
   "name": "python3"
  },
  "language_info": {
   "codemirror_mode": {
    "name": "ipython",
    "version": 3
   },
   "file_extension": ".py",
   "mimetype": "text/x-python",
   "name": "python",
   "nbconvert_exporter": "python",
   "pygments_lexer": "ipython3",
   "version": "3.5.2"
  },
  "widgets": {
   "state": {},
   "version": "1.1.2"
  }
 },
 "nbformat": 4,
 "nbformat_minor": 1
}
